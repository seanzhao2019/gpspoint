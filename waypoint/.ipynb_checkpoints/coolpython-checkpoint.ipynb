{
 "cells": [
  {
   "cell_type": "code",
   "execution_count": 17,
   "metadata": {
    "collapsed": false
   },
   "outputs": [
    {
     "name": "stdout",
     "output_type": "stream",
     "text": [
      " 100\n"
     ]
    }
   ],
   "source": [
    "from math import sqrt\n",
    "k = int(sqrt(10001))\n",
    "print k"
   ]
  },
  {
   "cell_type": "code",
   "execution_count": null,
   "metadata": {
    "collapsed": false
   },
   "outputs": [
    {
     "name": "stdout",
     "output_type": "stream",
     "text": [
      "Please input a number:45\n",
      "3\n",
      "5\n",
      "\n",
      "If you want to input another number,input y please or input n.y\n",
      "Please input a number:1001\n",
      "7\n",
      "11\n",
      "13\n"
     ]
    }
   ],
   "source": [
    "from math import sqrt\n",
    "def isprime(x):\n",
    "     if x == 1: \n",
    "         return False\n",
    "     k = int(sqrt(x))\n",
    "     for j in range(2,k+1): \n",
    "           if x%j == 0:\n",
    "                 return False \n",
    "     return True\n",
    "if __name__ == \"__main__\":\n",
    "    flag = 'y'\n",
    "    while(flag == 'y'):\n",
    "        num = input(\"Please input a number:\")\n",
    "        for i in range(2,num):\n",
    "            if  isprime(i) and num % i ==0:\n",
    "                print i#, isprime(i)\n",
    "        flag = raw_input(\"\\nIf you want to input another number,input y please or input n.\")\n",
    "        "
   ]
  },
  {
   "cell_type": "code",
   "execution_count": 7,
   "metadata": {
    "collapsed": false
   },
   "outputs": [
    {
     "name": "stdout",
     "output_type": "stream",
     "text": [
      " 31\n"
     ]
    }
   ],
   "source": [
    "from math import sqrt\n",
    "k = int(sqrt(1001))\n",
    "print k"
   ]
  },
  {
   "cell_type": "code",
   "execution_count": null,
   "metadata": {
    "collapsed": true
   },
   "outputs": [],
   "source": []
  }
 ],
 "metadata": {
  "kernelspec": {
   "display_name": "Python 2",
   "language": "python",
   "name": "python2"
  },
  "language_info": {
   "codemirror_mode": {
    "name": "ipython",
    "version": 2
   },
   "file_extension": ".py",
   "mimetype": "text/x-python",
   "name": "python",
   "nbconvert_exporter": "python",
   "pygments_lexer": "ipython2",
   "version": "2.7.6"
  }
 },
 "nbformat": 4,
 "nbformat_minor": 0
}
